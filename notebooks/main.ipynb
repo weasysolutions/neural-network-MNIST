{
 "cells": [
  {
   "cell_type": "markdown",
   "metadata": {
    "slideshow": {
     "slide_type": "slide"
    }
   },
   "source": [
    "# _Redes Neuronales_\n",
    "### Aprendizaje Automatizado del conjunto _MNIST_  &\n",
    "### Aprendizaje Profundo"
   ]
  },
  {
   "cell_type": "markdown",
   "metadata": {
    "slideshow": {
     "slide_type": "slide"
    }
   },
   "source": [
    "### [Aprendizaje Profundo y Redes Neuronales](http://neuralnetworksanddeeplearning.com/index.html)\n",
    "\n",
    "#### Introducción.\n",
    "\n",
    "El sistema visual humano es una de las maravillas del mundo. Considere la siguiente secuencia de dígitos escritos a mano: \n",
    "<center> \n",
    "<a href=\"https://fontmeme.com/handwriting-fonts/\">\n",
    "<img src=\"https://fontmeme.com/permalink/190307/05e4494c338d7e33420364ec6abe0b42.png\" alt=\"handwriting-fonts\" border=\"0\"></a> \n",
    "</center>\n",
    "\n",
    "La mayoría de las personas reconocen sin esfuerzo esos dígitos como 570139. Esta facilidad engañosa. En cada hemisferio de nuestro cerebro, los humanos tienen una corteza visual primaria, también conocida como V1, que contiene 140 millones de neuronas, con decenas de miles de millones de conexiones entre ellas. Y, sin embargo, la visión humana implica no solo V1, sino toda una serie corticales visuales (V2, V3, V4 y V5) que realizan un procesamiento de imágenes cada vez más complejo."
   ]
  },
  {
   "cell_type": "markdown",
   "metadata": {
    "slideshow": {
     "slide_type": "slide"
    }
   },
   "source": [
    "### [Aprendizaje Profundo y Redes Neuronales](http://neuralnetworksanddeeplearning.com/index.html)\n",
    "\n",
    "La dificultad del reconocimiento de patrones visuales se hace evidente si intenta escribir un programa de computadora para reconocer dígitos como los anteriores. Lo que parece fácil cuando lo hacemos nosotros mismos de repente se vuelve extremadamente difícil. Las intuiciones simples sobre cómo reconocemos las formas, no son tan simples de expresar algorítmicamente. Cuando tratas de hacer precisas tales reglas, rápidamente te pierdes en una gran cantidad de excepciones y advertencias y casos especiales. Resulta desolador\n"
   ]
  },
  {
   "cell_type": "markdown",
   "metadata": {
    "slideshow": {
     "slide_type": "slide"
    }
   },
   "source": [
    "### [Aprendizaje Profundo y Redes Neuronales](http://neuralnetworksanddeeplearning.com/index.html)\n",
    "\n",
    "\n",
    "Las redes neuronales abordan el problema de una manera diferente. La idea es tomar un gran número de dígitos escritos a mano, conocidos como ejemplos de capacitación,\n",
    "\n",
    "<center> \n",
    "<a href=\"http://neuralnetworksanddeeplearning.com/chap1.html\">\n",
    "<img src=\"http://neuralnetworksanddeeplearning.com/images/mnist_100_digits.png\"></a>  \n",
    "</center>\n",
    "\n",
    "y luego desarrollar un sistema que pueda aprender de esos ejemplos de entrenamiento. En otras palabras, la red neuronal utiliza los ejemplos para inferir automáticamente reglas para reconocer dígitos escritos a mano. Además, al aumentar el número de ejemplos de capacitación, la red puede aprender más sobre la escritura a mano, y así mejorar su precisión."
   ]
  },
  {
   "cell_type": "markdown",
   "metadata": {
    "slideshow": {
     "slide_type": "slide"
    }
   },
   "source": [
    "### [Aprendizaje Profundo y Redes Neuronales](http://neuralnetworksanddeeplearning.com/index.html)\n",
    "\n",
    "La dificultad del reconocimiento de patrones visuales se hace evidente si intenta escribir un programa de computadora para reconocer dígitos como los anteriores. Lo que parece fácil cuando lo hacemos nosotros mismos de repente se vuelve extremadamente difícil. Las intuiciones simples sobre cómo reconocemos las formas, no son tan simples de expresar algorítmicamente. Cuando tratas de hacer precisas tales reglas, rápidamente te pierdes en una gran cantidad de excepciones y advertencias y casos especiales. Resulta desolador\n",
    "\n",
    "Las redes neuronales abordan el problema de una manera diferente. La idea es tomar un gran número de dígitos escritos a mano, conocidos como ejemplos de capacitación,\n",
    "\n",
    "<center> \n",
    "<a href=\"http://neuralnetworksanddeeplearning.com/chap1.html\">\n",
    "<img src=\"http://neuralnetworksanddeeplearning.com/images/mnist_100_digits.png\"></a>  \n",
    "</center>\n",
    "\n",
    "y luego desarrollar un sistema que pueda aprender de esos ejemplos de entrenamiento. En otras palabras, la red neuronal utiliza los ejemplos para inferir automáticamente reglas para reconocer dígitos escritos a mano. Además, al aumentar el número de ejemplos de capacitación, la red puede aprender más sobre la escritura a mano, y así mejorar su precisión."
   ]
  },
  {
   "cell_type": "markdown",
   "metadata": {
    "slideshow": {
     "slide_type": "fragment"
    }
   },
   "source": [
    "> *La mayoría de los modelos modernos de aprendizaje profundo se basan en una red neuronal artificial*\n"
   ]
  },
  {
   "cell_type": "markdown",
   "metadata": {
    "slideshow": {
     "slide_type": "slide"
    }
   },
   "source": [
    "### [Aprendizaje Profundo y Redes Neuronales](http://neuralnetworksanddeeplearning.com/index.html)\n",
    "#### Neuronas Artificiales: El Perceptrón\n",
    "\n",
    "Las redes de neuronales estan hechas de neuronas y existen varios tipos. Una de ellas es el perceptrón:\n",
    "\n",
    "\n",
    "<center> \n",
    "<a href=\"http://neuralnetworksanddeeplearning.com/chap1.html\">\n",
    "<img src=\"http://neuralnetworksanddeeplearning.com/images/tikz0.png\"></a>  \n",
    "</center>\n",
    "\n",
    "*Un perceptrón toma varias entradas binarias (tres en este caso), $x_{1}, x_{2}, x_{2}$ y produce una salida binaria única*. Una manera de pensar sobre el perceptrón es que es un dispositivo que toma decisiones al sopesar la evidencia."
   ]
  },
  {
   "cell_type": "markdown",
   "metadata": {
    "slideshow": {
     "slide_type": "slide"
    }
   },
   "source": [
    "### [El Perceptrón](http://neuralnetworksanddeeplearning.com/index.html)\n",
    "\n",
    "No es  muy realista, pero es fácil de entender. Suponga que se acerca el fin de semana, y has oído que habrá un festival de la cerveza en tu ciudad. Te gusta el queso y estás tratando de decidir si ir o no al festival. Puede tomar su decisión sopesando tres factores:\n",
    "\n",
    "¿El clima esta agradable?\n",
    "¿Tu novio o novia quiere acompañarte?\n",
    "¿Está el festival cerca del transporte público? (No tienes auto).\n",
    "\n",
    "Podemos representar estos tres factores mediante las variables binarias correspondientes $x_{1}, x_{2}, x_{2}$. Por ejemplo, tendríamos $x_{1} = 1$ si el clima es bueno, y $x_{1} = 0$ si el clima es malo. De manera similar, $x_{2} = 1$ si su novio o novia quiere ir, y $x_{2} = 0$ si no. Similarmente de nuevo para $x_{3} = 1$ y transporte público.\n",
    "\n",
    "Ahora, supongamos que adoras la cerveza, tanto que estás feliz de ir al festival, incluso si a tu novio o novia no le interesa y es difícil llegar al festival. Pero tal vez realmente detestas el mal tiempo, y no hay manera de que vayas al festival si el clima es malo. "
   ]
  },
  {
   "cell_type": "markdown",
   "metadata": {
    "slideshow": {
     "slide_type": "slide"
    }
   },
   "source": [
    "### [El Perceptrón](http://neuralnetworksanddeeplearning.com/index.html)\n",
    "\n",
    "Puede utilizar perceptrones para modelar este tipo de toma de decisiones. En este caso el perceptrón viene dado por \n",
    "![](../images/perceptron.png)\n",
    "\n",
    "Los números(pesos) 6,2,2 se han escogido de manera que reflejen el hecho que el clima es muy importante para usted, mucho más que si su novio o novia se unen a usted o la cercanía del transporte público. Finalmente, suponga que elige un umbral de 5 para el perceptrón. Con estas opciones, el perceptrón implementa el modelo de toma de decisiones deseado, generando 1 cuando el clima es bueno y 0 cuando el clima es malo. No importa el resultado si su novio o novia quiere ir, o si el transporte público está cerca. \n",
    "\n",
    "Al variar los pesos y el umbral, podemos obtener diferentes modelos de toma de decisiones. Por ejemplo, supongamos que, en cambio, elegimos un umbral de 3. El perceptrón decidirá que deberías ir al festival cuando el tiempo fuera bueno o cuando el festival estaba cerca del transporte público y tu novio o novia estaba dispuesto a unírsele. En otras palabras, sería un modelo diferente de toma de decisiones. Bajar el umbral significa que estás más dispuesto a ir al festival."
   ]
  },
  {
   "cell_type": "markdown",
   "metadata": {
    "slideshow": {
     "slide_type": "slide"
    }
   },
   "source": [
    "### [El Perceptrón](http://neuralnetworksanddeeplearning.com/index.html)\n",
    "\n",
    "¡Obviamente, el perceptrón no es un modelo completo de toma de decisiones humanas! Pero lo que ilustra el ejemplo es cómo un perceptrón puede sopesar diferentes tipos de evidencia para tomar decisiones. Y debería parecer plausible que una compleja red de perceptrones pueda tomar decisiones bastante sutiles:\n",
    "<center> \n",
    "<a href=\"http://neuralnetworksanddeeplearning.com/chap1.html\">\n",
    "<img src=\"http://neuralnetworksanddeeplearning.com/images/tikz1.png\"></a>  \n",
    "</center>\n",
    "\n",
    "En esta red, la primera columna de perceptrones (lo que llamaremos la primera *capa* de perceptrones) está tomando tres decisiones muy simples, sopesando la evidencia de entrada. ¿Qué pasa con los perceptrones en la segunda capa? Cada uno de esos perceptrones está tomando una decisión sopesando los resultados del primer nivel de toma de decisiones. De esta manera, los  perceptrones en la sucesivos están tomando decisiones a un nivel más complejo y más abstracto que los perceptrones de sus capas anteriores:  una red de múltiples capas de perceptrones puede participar en la toma de decisiones sofisticada.\n",
    "\n"
   ]
  },
  {
   "cell_type": "markdown",
   "metadata": {
    "slideshow": {
     "slide_type": "slide"
    }
   },
   "source": [
    "### [El Perceptrón](http://neuralnetworksanddeeplearning.com/index.html)\n",
    "\n",
    "<center> \n",
    "<a href=\"http://neuralnetworksanddeeplearning.com/chap1.html\">\n",
    "<img src=\"http://neuralnetworksanddeeplearning.com/images/tikz1.png\" withd></a>  \n",
    "</center>\n",
    "\n",
    "En la red de arriba, los perceptrones parecen tener múltiples salidas. De hecho, todavía son de salida única. Las flechas de salida múltiple son simplemente una forma útil de indicar que la salida de un perceptrón se está utilizando como entrada para varios otros perceptrones. Es menos difícil de manejar que dibujar una sola línea de salida que luego se divide.\n",
    "\n",
    "_Resulta ser que se pueden idear __algoritmos de aprendizaje__ que pueden ajustar automáticamente los pesos de una red de neuronas artificiales. Esta sintonización ocurre en respuesta a estímulos externos, sin la intervención directa de un programador._"
   ]
  },
  {
   "cell_type": "markdown",
   "metadata": {
    "slideshow": {
     "slide_type": "slide"
    }
   },
   "source": [
    "### El problema con los perceptrones\n",
    " Supongamos que tenemos una red de perceptrones que nos gustaría usar para aprender a resolver un problema, por ejemplo, las entradas a la red podrían ser los datos de píxeles de una imagen escaneada y manuscrita de un dígito. Y nos gustaría que la red aprendiera los pesos  para que la salida de la red clasifique correctamente el dígito. Supongamos que hacemos un pequeño cambio en algo de peso en la red. Lo que nos gustaría es que este pequeño cambio en el peso cause solo un pequeño cambio correspondiente en la salida de la red:\n",
    "<center> \n",
    "<a>\n",
    "<img src=\"../images/neurona-cambios-pequenos.png\" width='50%'></a>  \n",
    "</center>\n",
    "Así la red 'aprendará' poco a poco. Desafortunadamente, esto no pasa con los percetrones: Cambios pequeños en los pesos no garantizan cambios pequeños en la salida."
   ]
  },
  {
   "cell_type": "markdown",
   "metadata": {
    "slideshow": {
     "slide_type": "slide"
    }
   },
   "source": [
    "### Neurona Sigmoide\n",
    "Podemos superar este problema introduciendo un nuevo tipo de neurona artificial llamada neurona sigmoide. Las neuronas sigmoides son similares a los perceptrones, pero se modifican de modo que pequeños cambios en sus pesos y sesgos causan solo un pequeño cambio en su producción. Ese es el hecho crucial que permitirá que una red de neuronas sigmoides aprendan. Se presentan las neuronas sigmoideas de la misma manera que describimos los perceptrones:\n",
    "<center> \n",
    "<a href=\"http://neuralnetworksanddeeplearning.com/chap1.html\">\n",
    "<img src=\"http://neuralnetworksanddeeplearning.com/images/tikz0.png\"></a>  \n",
    "</center>\n",
    "\n",
    "Al igual que un perceptrón, la neurona sigmoide tiene entradas, x1, x2, ... Pero en lugar de ser solo 0 o 1, estas entradas también pueden tomar cualquier valor entre 0 y 1. Entonces, por ejemplo, 0.638 ... es una entrada válida para una neurona sigmoide."
   ]
  },
  {
   "cell_type": "markdown",
   "metadata": {
    "slideshow": {
     "slide_type": "slide"
    }
   },
   "source": [
    "### Neurona Sigmoide\n",
    " Además, al igual que un perceptrón, la neurona sigmoide tiene pesos para cada entrada, $w_1$, $w_2$. Pero la salida no es 0 o 1. Sino la función:\n",
    "<center> \n",
    "<a >\n",
    "<img src=\"../images/sigmoide-function.png\" width=40%></a>  \n",
    "</center>"
   ]
  },
  {
   "cell_type": "markdown",
   "metadata": {
    "slideshow": {
     "slide_type": "slide"
    }
   },
   "source": [
    "Para ver por qué esta función se parece a un percetrón la graficamos:"
   ]
  },
  {
   "cell_type": "code",
   "execution_count": 1,
   "metadata": {
    "slideshow": {
     "slide_type": "fragment"
    }
   },
   "outputs": [
    {
     "data": {
      "text/plain": [
       "<matplotlib.figure.Figure at 0x7fba3c3df2e8>"
      ]
     },
     "metadata": {},
     "output_type": "display_data"
    }
   ],
   "source": [
    "import numpy as np\n",
    "from matplotlib import pyplot as plt\n",
    "\n",
    "def sigmoid(x):  \n",
    "    return  np.array([1 / (1 + np.exp(-y)) for y in x])\n",
    "\n",
    "                     \n",
    "t = np.linspace(-4,4,400)\n",
    "a = 4*sigmoid(t) - 2\n",
    "\n",
    "plt.title('Función Sigmoide')\n",
    "plt.plot(t,a)\n",
    "\n",
    "plt.show()"
   ]
  },
  {
   "cell_type": "markdown",
   "metadata": {
    "slideshow": {
     "slide_type": "slide"
    }
   },
   "source": [
    "Si $\\sigma$ hubiera sido de hecho una función escalonada, entonces la neurona sigmoidea sería un perceptrón, ya que la salida sería 1 o 0 dependiendo de si $\\mathrm{peso}$ es positivo o negativo:"
   ]
  },
  {
   "cell_type": "code",
   "execution_count": 2,
   "metadata": {
    "slideshow": {
     "slide_type": "fragment"
    }
   },
   "outputs": [
    {
     "data": {
      "image/png": "[encoded data removed]",
      "text/plain": [
       "<matplotlib.figure.Figure at 0x7fba3c452c50>"
      ]
     },
     "metadata": {},
     "output_type": "display_data"
    }
   ],
   "source": [
    "b = 4*np.heaviside(t,.5) - 2\n",
    "plt.title('Función Paso')\n",
    "plt\n",
    "plt.plot(t,b,'m')\n",
    "plt.show()"
   ]
  },
  {
   "cell_type": "markdown",
   "metadata": {
    "slideshow": {
     "slide_type": "slide"
    }
   },
   "source": [
    "Al utilizar la función $\\sigma$ real, obtenemos, como ya se indicó anteriormente, un perceptrón suavizado. De hecho, es la suavidad de la función $\\sigma$ lo que es el hecho crucial, no su forma detallada. La suavidad de $\\sigma$ significa que pequeños cambios Δ en los pesos y producirán un pequeño cambio en la salida de la neurona:\n",
    "\n",
    "$\\Delta \\mathrm{salida} = \\frac{d(\\mathrm{salida})}{d (\\mathrm{peso})}\\Delta (\\mathrm{peso})$\n",
    "\n",
    "Entonces, mientras que las neuronas sigmoideas tienen una gran parte del mismo comportamiento cualitativo que los perceptrones, hacen mucho más fácil descubrir cómo el cambio de los pesos cambiará la salida."
   ]
  },
  {
   "cell_type": "markdown",
   "metadata": {
    "slideshow": {
     "slide_type": "slide"
    }
   },
   "source": [
    "Lo que realmente importa es la forma de $\\sigma$, y no su forma exacta. De hecho, se pueden utilizar neuronas donde la salida con otras funciones activación f:"
   ]
  },
  {
   "cell_type": "code",
   "execution_count": 3,
   "metadata": {
    "slideshow": {
     "slide_type": "fragment"
    }
   },
   "outputs": [
    {
     "data": {
      "image/png": "[encoded data removed]",
      "text/plain": [
       "<matplotlib.figure.Figure at 0x7fba422d38d0>"
      ]
     },
     "metadata": {},
     "output_type": "display_data"
    }
   ],
   "source": [
    "def sigmoid(x):  \n",
    "    return  np.array([1 / (1 + np.exp(-y)) for y in x])\n",
    "\n",
    "def tanh(x):\n",
    "    return np.array([np.tanh(y) for y in x])\n",
    "\n",
    "t = np.linspace(-4,4,400)\n",
    "\n",
    "a,b = 4*sigmoid(t) - 2, 1*tanh(t) + 0\n",
    "\n",
    "plt.plot(t,a,t,b)\n",
    "\n",
    "plt.show();"
   ]
  },
  {
   "cell_type": "markdown",
   "metadata": {
    "slideshow": {
     "slide_type": "slide"
    }
   },
   "source": [
    "¿Cómo deberíamos interpretar la salida de una neurona sigmoide? Obviamente, una gran diferencia entre los perceptrones y las neuronas sigmoideas es que las neuronas sigmoideas no solo producen la salida 0 o 1. Pueden tener como salida cualquier número real entre 0 y 1, por lo que valores como 0.173 ... y 0.689 ... son salidas legítimas. Esto puede ser útil, por ejemplo, si queremos usar el valor de salida para representar la intensidad promedio de los píxeles en una entrada de imagen a una red neuronal. Pero a veces puede ser una molestia. Supongamos que queremos que la salida de la red indique \"la imagen de entrada es un 9\" o \"la imagen de entrada no es un 9\". Obviamente, sería más fácil hacer esto si la salida fuera un 0 o un 1, como en un perceptrón. Pero en la práctica podemos establecer una convención para lidiar con esto, por ejemplo, al decidir interpretar cualquier salida de al menos 0.5 como que indica un \"9\", y cualquier salida menor a 0.5 indica que \"no es un 9\". Siempre declararé explícitamente cuando usamos dicha convención, por lo que no debería causar ninguna confusión."
   ]
  },
  {
   "cell_type": "markdown",
   "metadata": {
    "slideshow": {
     "slide_type": "slide"
    }
   },
   "source": [
    "### La arquitectura de las redes neuronales.\n",
    "\n",
    "Supongamos que tenemos la red:\n",
    "\n",
    "<center> \n",
    "<a>\n",
    "<img src=\"../images/architecture-simple.png\" width='60%'></a>  \n",
    "</center>\n",
    "\n",
    "La capa más a la izquierda en esta red se llama la *capa de entrada*, y las neuronas dentro de la capa se llaman *neuronas de entrada*. La capa de la derecha o de salida contiene las neuronas de salida, o, como en este caso, una neurona de *salida única*. La capa intermedia se denomina *capa oculta*, ya que las neuronas en esta capa no son entradas ni salidas."
   ]
  },
  {
   "cell_type": "markdown",
   "metadata": {
    "slideshow": {
     "slide_type": "slide"
    }
   },
   "source": [
    "### La arquitectura de las redes neuronales.\n",
    "\n",
    "Por ejemplo, la siguiente red de cuatro capas tiene dos capas ocultas:\n",
    "\n",
    "<center> \n",
    "<a>\n",
    "<img src=\"../images/architecture-layers.png\" width='70%'></a>  \n",
    "</center>\n",
    "\n",
    "El diseño de las capas de entrada y salida en una red a menudo es sencillo. Por ejemplo, supongamos que estamos tratando de determinar si una imagen escrita a mano representa un \"9\" o no. Una forma natural de diseñar la red es codificar las intensidades de los píxeles de la imagen en las neuronas de entrada. Si la imagen es de 64 por 64 en escala de grises, tendríamos 4,096 = 64 × 64 neuronas de entrada, con las intensidades escaladas adecuadamente entre 0 y 1. La capa de salida contendrá una sola neurona, con valores de salida inferiores a 0.5 indicando que \"la imagen de entrada no es un 9\", y valores mayores a 0.5 indicando que \"la imagen de entrada es un 9\".\n"
   ]
  },
  {
   "cell_type": "markdown",
   "metadata": {
    "slideshow": {
     "slide_type": "slide"
    }
   },
   "source": [
    "Si bien el diseño de las capas de entrada y salida de una red neuronal es a menudo sencillo, puede haber bastante arte en el diseño de las capas ocultas.  Hasta ahora, se ha discutido sobre redes neuronales donde la salida de una capa se usa como entrada para la siguiente capa. Estas redes se denominan *redes neuronales de avance*."
   ]
  },
  {
   "cell_type": "markdown",
   "metadata": {
    "slideshow": {
     "slide_type": "slide"
    }
   },
   "source": [
    "### [El conjunto de datos MNIST](http://yann.lecun.com/exdb/mnist/) \n",
    "\n",
    "Una vez que se tiene un  diseño de la red neuronal, ¿cómo puede aprender a reconocer los dígitos? Lo primero que se necesita es un conjunto de datos para aprender, el llamado _conjunto de datos de entrenamiento_.\n",
    "\n",
    "[El conjunto de datos MNIST](http://yann.lecun.com/exdb/mnist/)  contiene decenas de miles de imágenes escaneadas de dígitos escritos a mano, junto con sus clasificaciones correctas. El nombre de MNIST proviene del hecho de que es un subconjunto modificado de dos conjuntos de datos recopilados por NIST, el Instituto Nacional de Estándares y Tecnología de los Estados Unidos.\n",
    "\n",
    "_La formación de un clasificador con el conjunto de datos MNIST se considera el **hola mundo** del reconocimiento de imágenes._"
   ]
  },
  {
   "cell_type": "markdown",
   "metadata": {
    "slideshow": {
     "slide_type": "slide"
    }
   },
   "source": [
    "Se muestran algunas imágenes típicas de MNIST:\n",
    "    \n",
    "<center> \n",
    "<a href=\"http://neuralnetworksanddeeplearning.com/chap1.html\">\n",
    "<img src=\"http://neuralnetworksanddeeplearning.com/images/digits_separate.png\" width=50%></a>  \n",
    "</center>\n",
    "\n",
    "Los datos del MNIST vienen en dos partes. La primera parte contiene 60,000 imágenes que se utilizarán como _datos de entrenamiento_.  La segunda parte del conjunto de datos MNIST es 10,000 imágenes que se utilizarán como _datos de prueba_. Nuevamente, estas son imágenes de 28 por 28 en escala de grises. Usaremos los datos de prueba para evaluar qué tan bien nuestra red neuronal ha aprendido a reconocer dígitos.\n"
   ]
  },
  {
   "cell_type": "markdown",
   "metadata": {
    "slideshow": {
     "slide_type": "fragment"
    }
   },
   "source": [
    "Se usa la notación $x$ para indicar una entrada de entrenamiento. Será conveniente considerar cada entrada de entrenamiento $x$  como un vector de 28 × 28 = 784 dimensiones. Cada entrada en el vector representa el valor de gris para un solo píxel en la imagen. La salida deseada correspondiente es $y = y (x)$, donde $y$ es un vector de 10 dimensiones. Por ejemplo, si una imagen de entrenamiento en particular, $x$, representa un 6, entonces $y (x) = (0,0,0,0,0,0,1,0,0,0)^{\\intercal}$ es la salida deseada de la red."
   ]
  },
  {
   "cell_type": "markdown",
   "metadata": {
    "slideshow": {
     "slide_type": "slide"
    }
   },
   "source": [
    "### Función de Costo Cuadrático\n",
    "Necesitamos un algoritmo que sirva para perfeccionar los pesos de la red, de tal forma que nuestras predicciones sean mejores. Para ello, usamos la [Función de Costo Cuadrático](https://www.codecogs.com/latex/eqneditor.php)\n",
    "<center> \n",
    "<a>\n",
    "<img src=\"../images/cost-function-only-weights.png\" width=30%></a>  \n",
    "</center>\n",
    "Aquí, $w$ denota la colección de todos los pesos en la red, $n$ es el número total de entradas de entrenamiento, $a$ es el vector de salidas de la red cuando $x$ es una entrada, y la suma es sobre todas las entradas de entrenamiento, $X$. Por supuesto, la salida a depende de $x$ y  $w$. La notación $\\vert\\vert v\\vert\\vert$ solo denota la función de longitud usual para un vector $v$. A  $C$ la función de costo cuadrático; a veces también se conoce como _error cuadrático medio (MSE)_ , _función de perdida_ o _función de objetiva_.  "
   ]
  },
  {
   "cell_type": "markdown",
   "metadata": {
    "slideshow": {
     "slide_type": "slide"
    }
   },
   "source": [
    "***EL objetivo al entrenar una red neuronal es encontrar pesos que minimicen la función de costo $C$***\n",
    "\n",
    "Aprovechando que la la función tiene derivadas, se ataca el problema usando _cálculo_ para tratar de encontrar el mínimo analíticamente. Se  calcular el gradiente de $C$ (o sea sus derivadas) y luego se usa para encontrar lugares donde $C$ es un extremo. Hacerlo directamente se convertie en una pesadilla cuando se tienen muchas más variables: las redes neuronales más grandes tienen funciones de costo que dependen de miles de millones de pesos de una manera extremadamente complicada.\n",
    "\n",
    "Para hacer esto práctico, es comun usar el  _descenso de gradiente estocástico_ y el _algoritmo de retropragación_ para acelerar el aprendizaje."
   ]
  },
  {
   "cell_type": "markdown",
   "metadata": {
    "slideshow": {
     "slide_type": "slide"
    }
   },
   "source": [
    "### Optimizadores\n",
    "#### [Descenso de gradiente estocástico](http://neuralnetworksanddeeplearning.com/chap1.html#learning_with_gradient_descent)\n",
    " La idea es estimar el gradiente de $C$ para una pequeña muestra de insumos de entrenamiento elegidos al azar. Al promediar sobre esta pequeña muestra, se puede obtener rápidamente una buena estimación del gradiente verdadero, y esto ayuda a acelerar el descenso del gradiente y, por lo tanto, el aprendizaje.\n",
    " \n",
    " \n",
    "#### [Algoritmo de retroprapagación](http://neuralnetworksanddeeplearning.com/chap2.html)\n",
    "\n",
    "Se calculan los errores comenzando desde la capa final. Puede parecer extraño que estemos retrocediendo por la red. Pero se aprovecha que el retroceso es una consecuencia del hecho de que el costo es una función de las salidas de la red. \n"
   ]
  },
  {
   "cell_type": "markdown",
   "metadata": {
    "slideshow": {
     "slide_type": "slide"
    }
   },
   "source": [
    "### [Funciones de Costo](https://stats.stackexchange.com/questions/154879/a-list-of-cost-functions-used-in-neural-networks-alongside-applications)\n",
    "Una función de costo es una medida de \"qué tan buena\" se hizo una red neuronal con respecto a su muestra de capacitación y el resultado esperado. El costo cuadrático no es la unica funcion de costo que se utiliza en redes neuronales. Un ejemplo de otro costo es la [entropía cruzada](http://neuralnetworksanddeeplearning.com/chap3.html#the_cross-entropy_cost_function):\n",
    "$$ \n",
    "C=-\\frac{1}{n} \\sum_{x}[y \\ln a+(1-y) \\ln (1-a)]\n",
    " $$\n",
    "### [Otras Funciones de Activación](https://towardsdatascience.com/activation-functions-neural-networks-1cbd9f8d91d6)\n",
    "También  existen varias de funciones de activación. Una de las funciones más usadas en la actualidad es la [función ReLu](https://medium.com/the-theory-of-everything/understanding-activation-functions-in-neural-networks-9491262884e0)."
   ]
  },
  {
   "cell_type": "markdown",
   "metadata": {
    "slideshow": {
     "slide_type": "slide"
    }
   },
   "source": [
    "### [Sobreentrenamiento (Sobreajuste)](http://neuralnetworksanddeeplearning.com/chap3.html#overfitting_and_regularization)\n",
    "Los modelos con una gran cantidad de parámetros libres pueden describir una variedad asombrosa de fenómenos. Incluso si un modelo de este tipo coincide con los datos disponibles, eso no lo convierte en un buen modelo. Puede significar que hay suficiente libertad en el modelo para que pueda describir casi cualquier conjunto de datos del tamaño dado, sin capturar ninguna visión genuina del fenómeno subyacente. Cuando eso suceda, el modelo funcionará bien para los datos existentes, pero no se generalizará a nuevas situaciones. \n",
    "\n",
    "En general, una de las mejores maneras de reducir el sobreajuste es aumentar el tamaño de los datos de entrenamiento. Con suficientes datos de entrenamiento, es difícil que incluso una red muy grande se adapte excesivamente. Desafortunadamente, los datos de capacitación pueden ser costosos o difíciles de adquirir, por lo que no siempre es una opción práctica.\n"
   ]
  },
  {
   "cell_type": "markdown",
   "metadata": {
    "slideshow": {
     "slide_type": "slide"
    }
   },
   "source": [
    "### [Regularización](https://www.analyticsvidhya.com/blog/2018/04/fundamentals-deep-learning-regularization-techniques/)\n",
    "\n",
    "Aumentar la cantidad de datos de entrenamiento es una forma de reducir el sobreajuste. ¿Hay otras maneras en que podamos reducir la medida en que ocurre el sobreajuste? Al conjunto de técnicas que pueden reducir el sobreajuste, incluso cuando tenemos una red fija y datos de entrenamiento fijos, se les denomina métodos o técnias _de regularización_ de los datos.\n",
    "\n",
    "Entre los nombres más populares se encuentran: _L1_ , _L2_ , _dropout_ y _aumento inteligente_.\n",
    "\n",
    "#### Dropout \n",
    "Por ejemplo con el dropout se modifica el tamaño de la red.\n",
    "### Inicializacion de los pesos\n",
    "\n",
    "Cuando se crea una red neural, se tienen que elegir las ponderaciones y sesgos iniciales. Tambien hay técnicas para eligir pesos iniciales."
   ]
  },
  {
   "cell_type": "markdown",
   "metadata": {
    "slideshow": {
     "slide_type": "slide"
    }
   },
   "source": [
    "### [Rendimiento del modelo (Métricas)](https://stackoverflow.com/questions/48280873/what-is-the-difference-between-loss-function-and-metric-in-keras)\n",
    "\n",
    "Una métrica es una función que, dados los valores predichos de la red, proporciona una medida escalar de la adecuación del modelo a los datos que se tienen. Una función de pérdida es una métrica, pero lo contrario no siempre se cumple. _Una métrica es una función que se utiliza para juzgar el rendimiento del modelo._"
   ]
  },
  {
   "cell_type": "markdown",
   "metadata": {
    "slideshow": {
     "slide_type": "slide"
    }
   },
   "source": [
    "### [MNIST con Keras](https://nextjournal.com/gkoehler/digit-recognition-with-keras)\n",
    "\n",
    "Recapitulando: Si el costo $C$ es cero para cualquier predicción (salida de la red), entonces estas son _predicciones exactas_. Obviamente esto no es posible.  **Se busca entrenar la red mediante algoritmos que hacen que  $C$ disminuya en **\n",
    "\n",
    "Existe una amplia gama de librerias computacionales para semejante empresa. Aqui se usan las librerias **Tensorflow** y **keras** de **python**.\n"
   ]
  },
  {
   "cell_type": "markdown",
   "metadata": {
    "slideshow": {
     "slide_type": "slide"
    }
   },
   "source": [
    "### [TensorFlow](https://www.tensorflow.org/)\n",
    "\n",
    "TensorFlow es una plataforma de código abierto  para el aprendizaje automático. Cuenta con un ecosistema integral y flexible de herramientas, bibliotecas y recursos de la comunidad que permite a los investigadores impulsar el estado de la técnica en ML y los desarrolladores pueden crear y desplegar fácilmente aplicaciones potenciadas por ML.\n",
    "\n",
    "### [Keras](https://keras.io/)\n",
    "\n",
    "Keras es una interfaz de programación de aplicaciones (API) de redes neuronales de alto nivel, escrita en Python y capaz de ejecutarse sobre TensorFlow, CNTK o Theano. Fue desarrollado con un enfoque en permitir la experimentación rápida. Poder pasar de la idea al resultado con el menor retraso posible es clave para hacer una buena investigación."
   ]
  },
  {
   "cell_type": "markdown",
   "metadata": {
    "slideshow": {
     "slide_type": "slide"
    }
   },
   "source": [
    "Importaciones para manejo de matrices y figuras."
   ]
  },
  {
   "cell_type": "code",
   "execution_count": 4,
   "metadata": {
    "slideshow": {
     "slide_type": "fragment"
    }
   },
   "outputs": [],
   "source": [
    "# Importaciones para manejo de matrices y figuras.\n",
    "import numpy as np\n",
    "import matplotlib\n",
    "#matplotlib.use('agg')\n",
    "import matplotlib.pyplot as plt"
   ]
  },
  {
   "cell_type": "code",
   "execution_count": 5,
   "metadata": {
    "slideshow": {
     "slide_type": "fragment"
    }
   },
   "outputs": [],
   "source": [
    "\n",
    "# vamos a mantener el backend de tensorflow en silencio\n",
    "import os\n",
    "os.environ['TF_CPP_MIN_LOG_LEVEL']='3'\n",
    "# for testing on CPU\n",
    "#os.environ['CUDA_VISIBLE_DEVICES'] = ''"
   ]
  },
  {
   "cell_type": "code",
   "execution_count": 6,
   "metadata": {
    "slideshow": {
     "slide_type": "slide"
    }
   },
   "outputs": [
    {
     "name": "stderr",
     "output_type": "stream",
     "text": [
      "/home/enrique/anaconda3/lib/python3.6/site-packages/h5py/__init__.py:36: FutureWarning: Conversion of the second argument of issubdtype from `float` to `np.floating` is deprecated. In future, it will be treated as `np.float64 == np.dtype(float).type`.\n",
      "  from ._conv import register_converters as _register_converters\n",
      "Using TensorFlow backend.\n"
     ]
    }
   ],
   "source": [
    "# Keras importes para el conjunto de datos y para construir la red neuronal\n",
    "from keras.datasets import mnist\n",
    "from keras.models import Sequential, load_model\n",
    "from keras.layers.core import Dense, Dropout, Activation\n",
    "from keras.utils import np_utils"
   ]
  },
  {
   "cell_type": "markdown",
   "metadata": {
    "slideshow": {
     "slide_type": "slide"
    }
   },
   "source": [
    "Cargue el conjunto de datos utilizando la función que divide los datos del MNIST en conjuntos de entrenamiento y de prueba."
   ]
  },
  {
   "cell_type": "code",
   "execution_count": 7,
   "metadata": {
    "slideshow": {
     "slide_type": "fragment"
    }
   },
   "outputs": [],
   "source": [
    "(X_train, y_train), (X_test, y_test) = mnist.load_data()"
   ]
  },
  {
   "cell_type": "markdown",
   "metadata": {
    "slideshow": {
     "slide_type": "slide"
    }
   },
   "source": [
    "Inspeccione algunos ejemplos. El conjunto de datos MNIST contiene solo imágenes en escala de grises. Para conjuntos de datos de imagen más avanzados, se tienen  los tres canales de color (RGB)."
   ]
  },
  {
   "cell_type": "code",
   "execution_count": 8,
   "metadata": {
    "slideshow": {
     "slide_type": "fragment"
    }
   },
   "outputs": [
    {
     "data": {
      "image/png": "[encoded data removed]",
      "text/plain": [
       "<matplotlib.figure.Figure at 0x7fb9ef2cc9b0>"
      ]
     },
     "metadata": {},
     "output_type": "display_data"
    }
   ],
   "source": [
    "fig = plt.figure()\n",
    "for i in range(9):\n",
    "  plt.subplot(3,3,i+1)\n",
    "  plt.tight_layout()\n",
    "  plt.imshow(X_train[i], cmap='gray', interpolation='none')\n",
    "  plt.title(\"Dígito: {}\".format(y_train[i]))\n",
    "  plt.xticks([])\n",
    "  plt.yticks([])\n",
    "fig\n",
    "plt.show();"
   ]
  },
  {
   "cell_type": "markdown",
   "metadata": {
    "slideshow": {
     "slide_type": "slide"
    }
   },
   "source": [
    "Para entrenar la red neuronal para clasificar imágenes, primero se ponen los píxeles en un gran vector de entrada: _la capa de entrada_. Así que su longitud debe ser $28\\times 28 = 784$. Se grafica la distribución de nuestros valores de píxeles:"
   ]
  },
  {
   "cell_type": "code",
   "execution_count": 9,
   "metadata": {
    "slideshow": {
     "slide_type": "fragment"
    }
   },
   "outputs": [
    {
     "data": {
      "image/png": "[encoded data removed]",
      "text/plain": [
       "<matplotlib.figure.Figure at 0x7fb9ea4d10f0>"
      ]
     },
     "metadata": {},
     "output_type": "display_data"
    }
   ],
   "source": [
    "fig = plt.figure()\n",
    "plt.subplot(2,1,1)\n",
    "plt.imshow(X_train[0], cmap='gray', interpolation='none')\n",
    "plt.title(\"Dígito: {}\".format(y_train[0]))\n",
    "plt.xticks([])\n",
    "plt.yticks([])\n",
    "plt.subplot(2,1,2)\n",
    "plt.hist(X_train[0].reshape(784))\n",
    "plt.title(\"Distribución del valor de los Pixeles\");"
   ]
  },
  {
   "cell_type": "markdown",
   "metadata": {
    "slideshow": {
     "slide_type": "slide"
    }
   },
   "source": [
    "Como se esperaba, los valores de los píxeles oscilan entre 0 y 255: la mayoría de fondo (_negro_) está cerca de 0 y los cerca de 255 (_blanco_) representan el dígito.\n",
    "\n",
    "La normalización de los datos de entrada ayuda a acelerar el entrenamiento. Además, reduce la posibilidad de atascarse en los óptimos locales, ya que estamos usando el descenso de gradiente estocástico para encontrar los pesos óptimos para la red.\n"
   ]
  },
  {
   "cell_type": "markdown",
   "metadata": {
    "slideshow": {
     "slide_type": "slide"
    }
   },
   "source": [
    "Cambie la forma de las entradas a un único vector y normalize los valores del píxel entre 0 y 1."
   ]
  },
  {
   "cell_type": "code",
   "execution_count": 10,
   "metadata": {
    "slideshow": {
     "slide_type": "fragment"
    }
   },
   "outputs": [
    {
     "name": "stdout",
     "output_type": "stream",
     "text": [
      "Forma de X_train (60000, 28, 28)\n",
      "Forma de Y_train (60000,)\n",
      "Forma de X_test (10000, 28, 28)\n",
      "Forma de Y_test (10000,)\n"
     ]
    }
   ],
   "source": [
    "# imprimamos la forma antes de remodelar y normalizar\n",
    "print(\"Forma de X_train\", X_train.shape)\n",
    "print(\"Forma de Y_train\", y_train.shape)\n",
    "print(\"Forma de X_test\", X_test.shape)\n",
    "print(\"Forma de Y_test\", y_test.shape)"
   ]
  },
  {
   "cell_type": "code",
   "execution_count": 11,
   "metadata": {
    "slideshow": {
     "slide_type": "slide"
    }
   },
   "outputs": [
    {
     "name": "stdout",
     "output_type": "stream",
     "text": [
      "Forma del conjunto de entrenamiento (60000, 784)\n",
      "Forma del conjunto de prueba (10000, 784)\n"
     ]
    }
   ],
   "source": [
    "\n",
    "# Construyendo el vector de entrada a partir de los 28x28 píxeles.\n",
    "X_train = X_train.reshape(60000, 784)\n",
    "X_test = X_test.reshape(10000, 784)\n",
    "X_train = X_train.astype('float32')\n",
    "X_test = X_test.astype('float32')\n",
    "\n",
    "\n",
    "# Normalizando los datos para ayudar con el entrenamiento.\n",
    "X_train /= 255\n",
    "X_test /= 255\n",
    "\n",
    "# imprimir la forma de entrada final listo para el entrenamiento\n",
    "print(\"Forma del conjunto de entrenamiento\", X_train.shape)\n",
    "print(\"Forma del conjunto de prueba\", X_test.shape)"
   ]
  },
  {
   "cell_type": "markdown",
   "metadata": {
    "slideshow": {
     "slide_type": "slide"
    }
   },
   "source": [
    "Verificamos que  la _verdad_, o sea el conjunto de vectores de salida ($Y$ en la jerga del aprendizaje automático) para capacitar la red tiene sólo enteros de 0 a 9."
   ]
  },
  {
   "cell_type": "code",
   "execution_count": 12,
   "metadata": {
    "slideshow": {
     "slide_type": "fragment"
    }
   },
   "outputs": [
    {
     "name": "stdout",
     "output_type": "stream",
     "text": [
      "(array([0, 1, 2, 3, 4, 5, 6, 7, 8, 9], dtype=uint8), array([5923, 6742, 5958, 6131, 5842, 5421, 5918, 6265, 5851, 5949]))\n"
     ]
    }
   ],
   "source": [
    "print(np.unique(y_train, return_counts=True))"
   ]
  },
  {
   "cell_type": "markdown",
   "metadata": {
    "slideshow": {
     "slide_type": "slide"
    }
   },
   "source": [
    "Como se ha argumentado, las salidas (o  _categorías de salida_),  los dígitos del 0 al 9, se codifican en un vector de diez componentes. El vector es igual a cero en todas sus componenetes excepto en la posición para la categoría respectiva. Así, un $5$ estará representado por $(0,0,0,0,1,0,0,0,0,0)^{\\intercal}$:"
   ]
  },
  {
   "cell_type": "code",
   "execution_count": 13,
   "metadata": {
    "slideshow": {
     "slide_type": "fragment"
    }
   },
   "outputs": [
    {
     "name": "stdout",
     "output_type": "stream",
     "text": [
      "Forma antes de una 'codificación instantánea':  (60000,)\n",
      "Forma después de una 'codificación instantánea':  (60000, 10)\n"
     ]
    }
   ],
   "source": [
    "# Codificación instantánea utilizando las utilidades de relacionadas de numpy y  keras.\n",
    "n_classes = 10\n",
    "print(\"Forma antes de una 'codificación instantánea': \", y_train.shape)\n",
    "Y_train = np_utils.to_categorical(y_train, n_classes)\n",
    "Y_test = np_utils.to_categorical(y_test, n_classes)\n",
    "print(\"Forma después de una 'codificación instantánea': \", Y_train.shape)"
   ]
  },
  {
   "cell_type": "markdown",
   "metadata": {
    "slideshow": {
     "slide_type": "slide"
    }
   },
   "source": [
    "## [Construyendo la red](http://alexlenail.me/NN-SVG/index.html)\n",
    "\n",
    "Utilice Keras para construir la red neuronal.\n",
    "<center> \n",
    "<a>\n",
    "<img src=\"../images/neural-net-concrete-keras.png\" width='80%'></a>  \n",
    "</center>"
   ]
  },
  {
   "cell_type": "markdown",
   "metadata": {
    "slideshow": {
     "slide_type": "slide"
    }
   },
   "source": [
    "### Construyendo la Red\n",
    "El vector de píxeles sirve como el conjunto de neuronas entrada. Luego, dos capas ocultas de 512 neuronas (nodos). Para esta arquitectura de red use _el modelo secuencial de Keras_, que representa la clase  de modelos  lineales en los pesos. Se apilan capas utilizando el método _.add()_."
   ]
  },
  {
   "cell_type": "markdown",
   "metadata": {
    "slideshow": {
     "slide_type": "slide"
    }
   },
   "source": [
    "## Densidad de la Red\n",
    "Cuando cada neurona de entrada está conectada a cada neurona salida por un peso se dice que la red esta  _densamente conectada_(o _totalmente conectada_)\n",
    "\n",
    "Para la clasificación de múltiples clases, se agreaga otra capa _densamente conectada_(o _totalmente conectada_) para las 10 clases de neuronas de salida diferentes. "
   ]
  },
  {
   "cell_type": "code",
   "execution_count": 14,
   "metadata": {
    "slideshow": {
     "slide_type": "fragment"
    }
   },
   "outputs": [],
   "source": [
    "# Construyendo una pila lineal de capas con el modelo secuencial.\n",
    "model = Sequential()\n",
    "model.add(Dense(512, input_shape=(784,)))\n",
    "model.add(Activation('relu'))                            \n",
    "model.add(Dropout(0.2))\n",
    "\n",
    "model.add(Dense(512))\n",
    "model.add(Activation('relu'))\n",
    "model.add(Dropout(0.2))\n",
    "\n",
    "model.add(Dense(10))\n",
    "model.add(Activation('softmax'))"
   ]
  },
  {
   "cell_type": "markdown",
   "metadata": {
    "slideshow": {
     "slide_type": "slide"
    }
   },
   "source": [
    "Al agregar la primera capa en el Modelo Secuencial, se necesita especificar la forma de entrada para que _Keras_ pueda crear las matrices apropiadas. Para todas las capas restantes la forma se deduce automáticamente."
   ]
  },
  {
   "cell_type": "markdown",
   "metadata": {
    "slideshow": {
     "slide_type": "fragment"
    }
   },
   "source": [
    "Para introducir no-linealidades en la red y elevarla más allá de las capacidades de un simple _perceptrón_, se han agredado funciones de activación a las capas ocultas. La diferenciación para el entrenamiento a través de la _propagación hacia atrás_ se está produce entre bastidores sin tener que implementar los detalles."
   ]
  },
  {
   "cell_type": "markdown",
   "metadata": {
    "slideshow": {
     "slide_type": "fragment"
    }
   },
   "source": [
    "También se ha agregado el método de _dropout_ para evitar el _sobreajuste_. La fracción de unidades no consideradas se toma como $0.2$"
   ]
  },
  {
   "cell_type": "markdown",
   "metadata": {
    "slideshow": {
     "slide_type": "fragment"
    }
   },
   "source": [
    "La última capa consta de conexiones para las 10 neuronas de salida. Se incluye la funcion activación de _softmax_ (estándar para cuando hay varias salidas)."
   ]
  },
  {
   "cell_type": "markdown",
   "metadata": {
    "slideshow": {
     "slide_type": "slide"
    }
   },
   "source": [
    "### Compilación y entrenamiento del modelo\n",
    "Configure el proceso de aprendizaje utilizando _.compile()_. Aquí se especifica la función de costo(o función objetivo). Para esta configuración, se utiliza la  _entropía cruzada_.\n",
    "\n",
    "En cuanto a la elección del  _optimizador_, se elige el optimizador _[Adam](https://arxiv.org/abs/1412.6980v9)_ con la configuración predeterminada.\n",
    "\n",
    "También se elige qué _métricas_ se evaluan durante el entrenamiento y las pruebas. Se puede pasar cualquier lista de métricas, incluso construir métricas personalizadas, y hacer que se muestren durante el entrenamiento / prueba."
   ]
  },
  {
   "cell_type": "code",
   "execution_count": 15,
   "metadata": {
    "slideshow": {
     "slide_type": "slide"
    }
   },
   "outputs": [],
   "source": [
    "# compilando el modelo secuencial\n",
    "model.compile(loss='categorical_crossentropy', metrics=['accuracy'], optimizer='adam')"
   ]
  },
  {
   "cell_type": "markdown",
   "metadata": {
    "slideshow": {
     "slide_type": "slide"
    }
   },
   "source": [
    "Habiendo compilado el modelo ahora se puede comenzar el proceso de entrenamiento. Se especifica cuántas veces se itera todo el conjunto de entrenamiento (_épocas_) y cuántas muestras se utilizan para la actualización de los pesos del modelo (tamaño de lote). En general, cuanto más grande sea el lote, más estables serán las actualizaciones de descenso de gradiente estocástico. ¡Pero cuidado con las limitaciones de memoria de la GPU! Vamos por un tamaño de lote de 128 y 8 épocas. Vamos por un tamaño de lote de 128 y 8 épocas."
   ]
  },
  {
   "cell_type": "markdown",
   "metadata": {
    "slideshow": {
     "slide_type": "fragment"
    }
   },
   "source": [
    "Para controlar el progreso de nuestro entrenamiento, también representamos gráficamente la curva de aprendizaje de nuestro modelo, considerando la pérdida y la precisión.\n",
    "Para trabajar con el modelo entrenado y evaluar su desempeño, estamos guardando el modelo en /data/.\n",
    "\n",
    "Cada época que pase _keras_ informa de los valores del  costo(_loss_)y la metrica(_acc_) en los conjuntos de entrenamiento y validacion (para distinguirse, el nombre en las validaciones empieza con el prefeijo _val_) "
   ]
  },
  {
   "cell_type": "code",
   "execution_count": 16,
   "metadata": {
    "slideshow": {
     "slide_type": "slide"
    }
   },
   "outputs": [
    {
     "name": "stdout",
     "output_type": "stream",
     "text": [
      "Train on 60000 samples, validate on 10000 samples\n",
      "Epoch 1/20\n",
      " - 6s - loss: 0.2517 - acc: 0.9237 - val_loss: 0.1012 - val_acc: 0.9692\n",
      "Epoch 2/20\n",
      " - 6s - loss: 0.1012 - acc: 0.9692 - val_loss: 0.0790 - val_acc: 0.9751\n",
      "Epoch 3/20\n",
      " - 6s - loss: 0.0736 - acc: 0.9761 - val_loss: 0.0681 - val_acc: 0.9789\n",
      "Epoch 4/20\n",
      " - 6s - loss: 0.0544 - acc: 0.9830 - val_loss: 0.0653 - val_acc: 0.9798\n",
      "Epoch 5/20\n",
      " - 6s - loss: 0.0462 - acc: 0.9853 - val_loss: 0.0722 - val_acc: 0.9784\n",
      "Epoch 6/20\n",
      " - 6s - loss: 0.0390 - acc: 0.9866 - val_loss: 0.0632 - val_acc: 0.9797\n",
      "Epoch 7/20\n",
      " - 6s - loss: 0.0346 - acc: 0.9885 - val_loss: 0.0647 - val_acc: 0.9824\n",
      "Epoch 8/20\n",
      " - 6s - loss: 0.0313 - acc: 0.9889 - val_loss: 0.0702 - val_acc: 0.9808\n",
      "Epoch 9/20\n",
      " - 6s - loss: 0.0272 - acc: 0.9905 - val_loss: 0.0738 - val_acc: 0.9807\n",
      "Epoch 10/20\n",
      " - 7s - loss: 0.0271 - acc: 0.9912 - val_loss: 0.0661 - val_acc: 0.9819\n",
      "Epoch 11/20\n",
      " - 7s - loss: 0.0219 - acc: 0.9923 - val_loss: 0.0750 - val_acc: 0.9802\n",
      "Epoch 12/20\n",
      " - 6s - loss: 0.0223 - acc: 0.9925 - val_loss: 0.0725 - val_acc: 0.9818\n",
      "Epoch 13/20\n",
      " - 7s - loss: 0.0214 - acc: 0.9927 - val_loss: 0.0682 - val_acc: 0.9834\n",
      "Epoch 14/20\n",
      " - 7s - loss: 0.0185 - acc: 0.9939 - val_loss: 0.0685 - val_acc: 0.9845\n",
      "Epoch 15/20\n",
      " - 7s - loss: 0.0183 - acc: 0.9940 - val_loss: 0.0714 - val_acc: 0.9829\n",
      "Epoch 16/20\n",
      " - 6s - loss: 0.0172 - acc: 0.9942 - val_loss: 0.0782 - val_acc: 0.9820\n",
      "Epoch 17/20\n",
      " - 6s - loss: 0.0179 - acc: 0.9940 - val_loss: 0.0772 - val_acc: 0.9837\n",
      "Epoch 18/20\n",
      " - 6s - loss: 0.0196 - acc: 0.9934 - val_loss: 0.0789 - val_acc: 0.9836\n",
      "Epoch 19/20\n",
      " - 6s - loss: 0.0141 - acc: 0.9955 - val_loss: 0.0773 - val_acc: 0.9832\n",
      "Epoch 20/20\n",
      " - 6s - loss: 0.0124 - acc: 0.9960 - val_loss: 0.0813 - val_acc: 0.9831\n",
      "Modelo guardado en  ../data/keras_mnist.h5 \n"
     ]
    }
   ],
   "source": [
    "# Entrenando el modelo y guardando las métricas en la historia.\n",
    "history = model.fit(X_train, Y_train,\n",
    "          batch_size=128, epochs=20,\n",
    "          verbose=2,\n",
    "          validation_data=(X_test, Y_test))\n",
    "\n",
    "# guardando el modelo \n",
    "save_dir = \"../data/\"\n",
    "model_name = 'keras_mnist.h5'\n",
    "model_path = os.path.join(save_dir, model_name)\n",
    "model.save(model_path)\n",
    "print('Modelo guardado en  %s ' % model_path)\n"
   ]
  },
  {
   "cell_type": "markdown",
   "metadata": {
    "slideshow": {
     "slide_type": "slide"
    }
   },
   "source": [
    "Grafique la evolucion de la red en cada una de las _épocas_"
   ]
  },
  {
   "cell_type": "code",
   "execution_count": 17,
   "metadata": {
    "slideshow": {
     "slide_type": "fragment"
    }
   },
   "outputs": [
    {
     "data": {
      "image/png": "[encoded data removed]",
      "text/plain": [
       "<matplotlib.figure.Figure at 0x7fb9ebf6e7f0>"
      ]
     },
     "metadata": {},
     "output_type": "display_data"
    }
   ],
   "source": [
    "fig = plt.figure()\n",
    "metrics, plot_number = {'exactitud':'acc', 'pérdida':'loss'}, 1\n",
    "for metric in metrics:   \n",
    "    keras_name = metrics[metric]\n",
    "    plt.subplot(2,1,plot_number), plt.plot(history.history[keras_name])\n",
    "    plt.plot(history.history['val_'+ keras_name])\n",
    "    plt.title('modelo - ' + metric), plt.ylabel(metric), plt.xlabel('época')\n",
    "    plt.legend(['entrenamiento', 'prueba'])\n",
    "    plot_number+=1;  \n",
    "plt.tight_layout()"
   ]
  },
  {
   "cell_type": "markdown",
   "metadata": {
    "slideshow": {
     "slide_type": "slide"
    }
   },
   "source": [
    "¡Esta curva de aprendizaje se ve bastante bien! Note que la pérdida (o el costo) en el conjunto de entrenamiento está disminuyendo rápidamente durante las dos primeras épocas. Esto muestra que la red está aprendiendo a clasificar los dígitos bastante rápido. Para el conjunto de pruebas, la pérdida no disminuye tan rápido, sino que se mantiene aproximadamente dentro del mismo rango que la pérdida de entrenamiento. Esto significa que nuestro modelo generaliza bien a lo no visto."
   ]
  },
  {
   "cell_type": "markdown",
   "metadata": {
    "slideshow": {
     "slide_type": "slide"
    }
   },
   "source": [
    "## Evaluación  del rendimiento\n",
    "Es hora de cosechar los frutos del entrenamiento de la red. Vea qué tan bien se desempeña el modelo en el conjunto de pruebas. El método _model.evaluate()_ calcula la pérdida y cualquier métrica definida al compilar el modelo. Entonces, en este caso, la precisión se calcula en los 10,000 ejemplos de prueba utilizando los pesos de red dados por el modelo almacenado"
   ]
  },
  {
   "cell_type": "code",
   "execution_count": 18,
   "metadata": {},
   "outputs": [
    {
     "name": "stdout",
     "output_type": "stream",
     "text": [
      "Prueba-Costo 0.08127471554288476\n",
      "Prueba-Exactitud 0.9831\n"
     ]
    }
   ],
   "source": [
    "mnist_model = load_model(\"../data/keras_mnist.h5\")\n",
    "loss_and_metrics = mnist_model.evaluate(X_test, Y_test, verbose=2)\n",
    "\n",
    "print(\"Prueba-Costo\", loss_and_metrics[0])\n",
    "print(\"Prueba-Exactitud\", loss_and_metrics[1])"
   ]
  },
  {
   "cell_type": "markdown",
   "metadata": {
    "slideshow": {
     "slide_type": "slide"
    }
   },
   "source": [
    "¡Esta precisión se ve muy bien! "
   ]
  },
  {
   "cell_type": "code",
   "execution_count": 19,
   "metadata": {},
   "outputs": [
    {
     "name": "stdout",
     "output_type": "stream",
     "text": [
      "\n",
      "9831 clasificados correctamente\n",
      "169 clasificados incorrectamente\n"
     ]
    }
   ],
   "source": [
    "# carga el modelo y crear predicciones en el conjunto de prueba\n",
    "mnist_model = load_model('../data/keras_mnist.h5')\n",
    "predicted_classes = mnist_model.predict_classes(X_test)\n",
    "\n",
    "# vea que predijimos correctamente y que no\n",
    "correct_indices = np.nonzero(predicted_classes == y_test)[0]\n",
    "incorrect_indices = np.nonzero(predicted_classes != y_test)[0]\n",
    "print()\n",
    "print(len(correct_indices),\"clasificados correctamente\")\n",
    "print(len(incorrect_indices),\"clasificados incorrectamente\")"
   ]
  },
  {
   "cell_type": "markdown",
   "metadata": {
    "slideshow": {
     "slide_type": "slide"
    }
   },
   "source": [
    "Vea ejemplos clasificados  correctamente e incorrectamente: 9 ejemplos cada uno."
   ]
  },
  {
   "cell_type": "code",
   "execution_count": 32,
   "metadata": {
    "slideshow": {
     "slide_type": "fragment"
    }
   },
   "outputs": [],
   "source": [
    "def grafica_predicciones(indices):\n",
    "    \n",
    "    for i, tipo in enumerate(indices):\n",
    "        plt.subplot(6,3,i+1);\n",
    "        plt.imshow(X_test[tipo].reshape(28,28), cmap='gray', interpolation='none')\n",
    "        plt.title(\n",
    "          \"Predicho: {}, Verdad: {}\".format(predicted_classes[tipo],\n",
    "                                            y_test[tipo]))\n",
    "        plt.xticks([])\n",
    "        plt.yticks([])"
   ]
  },
  {
   "cell_type": "code",
   "execution_count": 33,
   "metadata": {
    "slideshow": {
     "slide_type": "fragment"
    }
   },
   "outputs": [],
   "source": [
    "# Adapte el tamaño de la figura para acomodar 18 subparcelas.\n",
    "plt.rcParams['figure.figsize'] = (8,12)\n"
   ]
  },
  {
   "cell_type": "code",
   "execution_count": 30,
   "metadata": {
    "slideshow": {
     "slide_type": "slide"
    }
   },
   "outputs": [
    {
     "data": {
      "image/png": "[encoded data removed]",
      "text/plain": [
       "<matplotlib.figure.Figure at 0x7fb9863cb208>"
      ]
     },
     "metadata": {},
     "output_type": "display_data"
    }
   ],
   "source": [
    "\n",
    "# grafica  9 predicciones correctas\n",
    "grafica_predicciones(correct_indices[:9])"
   ]
  },
  {
   "cell_type": "code",
   "execution_count": 34,
   "metadata": {
    "slideshow": {
     "slide_type": "slide"
    }
   },
   "outputs": [
    {
     "data": {
      "image/png": "[encoded data removed]",
      "text/plain": [
       "<matplotlib.figure.Figure at 0x7fb98659f2e8>"
      ]
     },
     "metadata": {},
     "output_type": "display_data"
    }
   ],
   "source": [
    "  # grafica 9 predicciones incorrectas\n",
    "grafica_predicciones(incorrect_indices[:9])"
   ]
  }
 ],
 "metadata": {
  "kernelspec": {
   "display_name": "Python 3",
   "language": "python",
   "name": "python3"
  },
  "language_info": {
   "codemirror_mode": {
    "name": "ipython",
    "version": 3
   },
   "file_extension": ".py",
   "mimetype": "text/x-python",
   "name": "python",
   "nbconvert_exporter": "python",
   "pygments_lexer": "ipython3",
   "version": "3.6.4"
  }
 },
 "nbformat": 4,
 "nbformat_minor": 2
}
